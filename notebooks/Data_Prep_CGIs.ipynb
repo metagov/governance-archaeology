{
 "cells": [
  {
   "cell_type": "markdown",
   "id": "e4ac70f9",
   "metadata": {},
   "source": [
    "### Imports"
   ]
  },
  {
   "cell_type": "code",
   "execution_count": 48,
   "id": "aaa77852",
   "metadata": {},
   "outputs": [],
   "source": [
    "import pandas as pd\n",
    "import numpy as np"
   ]
  },
  {
   "cell_type": "code",
   "execution_count": 49,
   "id": "2b689d89",
   "metadata": {},
   "outputs": [],
   "source": [
    "pd.options.display.max_rows = 4000\n",
    "pd.options.display.max_columns = 4000"
   ]
  },
  {
   "cell_type": "code",
   "execution_count": 50,
   "id": "34f9d2e3",
   "metadata": {},
   "outputs": [],
   "source": [
    "# Communities Data"
   ]
  },
  {
   "cell_type": "code",
   "execution_count": 51,
   "id": "37abe6fb",
   "metadata": {},
   "outputs": [],
   "source": [
    "DATA_VERSION = 'v4'"
   ]
  },
  {
   "cell_type": "code",
   "execution_count": 52,
   "id": "807784b5",
   "metadata": {},
   "outputs": [],
   "source": [
    "communities_csv = '../data/' + DATA_VERSION + '/communities_data_prepped.csv'"
   ]
  },
  {
   "cell_type": "code",
   "execution_count": 53,
   "id": "02cdfd60",
   "metadata": {},
   "outputs": [],
   "source": [
    "communities_df = pd.read_csv(communities_csv)"
   ]
  },
  {
   "cell_type": "code",
   "execution_count": 54,
   "id": "fa6d6f7d",
   "metadata": {
    "scrolled": true
   },
   "outputs": [],
   "source": [
    "communities_df.head()"
   ]
  },
  {
   "cell_type": "code",
   "execution_count": 55,
   "id": "0ca3f8e5",
   "metadata": {},
   "outputs": [],
   "source": [
    "# Institutions Data"
   ]
  },
  {
   "cell_type": "code",
   "execution_count": 56,
   "id": "7af278d3",
   "metadata": {},
   "outputs": [],
   "source": [
    "institutions_csv = '../data/v2/Institutions-Grid-view.csv'"
   ]
  },
  {
   "cell_type": "code",
   "execution_count": 57,
   "id": "352e9f41",
   "metadata": {},
   "outputs": [],
   "source": [
    "institutions_df = pd.read_csv(institutions_csv)"
   ]
  },
  {
   "cell_type": "code",
   "execution_count": 58,
   "id": "0e4b4de7",
   "metadata": {},
   "outputs": [],
   "source": [
    "institutions_df"
   ]
  },
  {
   "cell_type": "code",
   "execution_count": 59,
   "id": "781b7977",
   "metadata": {},
   "outputs": [],
   "source": [
    "institutions_df['CGI'].value_counts()"
   ]
  },
  {
   "cell_type": "code",
   "execution_count": 60,
   "id": "dd80249c",
   "metadata": {
    "scrolled": true
   },
   "outputs": [],
   "source": [
    "institutions_df['CGI'].value_counts().plot(kind='bar', figsize=(20,20))"
   ]
  },
  {
   "cell_type": "code",
   "execution_count": 61,
   "id": "236747dc",
   "metadata": {
    "scrolled": true
   },
   "outputs": [],
   "source": [
    "set(list(institutions_df['Communities']))"
   ]
  },
  {
   "cell_type": "code",
   "execution_count": 62,
   "id": "32e5ebe2",
   "metadata": {},
   "outputs": [],
   "source": [
    "len(set(list(institutions_df['Communities'])))"
   ]
  },
  {
   "cell_type": "code",
   "execution_count": 63,
   "id": "e85976ac",
   "metadata": {},
   "outputs": [],
   "source": [
    "# TODO: Merge CGI data into Communities dataset? Or: Run a separate analysis for Institutions data"
   ]
  },
  {
   "cell_type": "markdown",
   "id": "9f7e8e06",
   "metadata": {},
   "source": [
    "# Encode Collective Governance Institutions (CGIs)"
   ]
  },
  {
   "cell_type": "code",
   "execution_count": 64,
   "id": "b8b89797",
   "metadata": {},
   "outputs": [],
   "source": [
    "institutions_df['CGI']"
   ]
  },
  {
   "cell_type": "code",
   "execution_count": 65,
   "id": "eff84855",
   "metadata": {},
   "outputs": [],
   "source": [
    "institutions_df.replace(np.nan, '', regex=True, inplace=True)"
   ]
  },
  {
   "cell_type": "code",
   "execution_count": 66,
   "id": "769df1c9",
   "metadata": {},
   "outputs": [],
   "source": [
    "institutions_df['CGI']"
   ]
  },
  {
   "cell_type": "code",
   "execution_count": 67,
   "id": "3661ce71",
   "metadata": {},
   "outputs": [],
   "source": [
    "cgi_list = list(institutions_df['CGI'])"
   ]
  },
  {
   "cell_type": "code",
   "execution_count": 68,
   "id": "cdb0aa66",
   "metadata": {},
   "outputs": [],
   "source": [
    "cgi_list"
   ]
  },
  {
   "cell_type": "code",
   "execution_count": 69,
   "id": "0e9f5c93",
   "metadata": {},
   "outputs": [],
   "source": [
    "cgi_set = set()"
   ]
  },
  {
   "cell_type": "code",
   "execution_count": 70,
   "id": "7e7be068",
   "metadata": {
    "scrolled": true
   },
   "outputs": [],
   "source": [
    "[cgi_set.update(cgis.split(',')) for cgis in cgi_list]\n",
    "cgi_set"
   ]
  },
  {
   "cell_type": "code",
   "execution_count": 71,
   "id": "ae52762a",
   "metadata": {},
   "outputs": [],
   "source": [
    "cgi_set.remove('')"
   ]
  },
  {
   "cell_type": "code",
   "execution_count": 72,
   "id": "15f1d4a5",
   "metadata": {
    "scrolled": true
   },
   "outputs": [],
   "source": [
    "cgi_set"
   ]
  },
  {
   "cell_type": "markdown",
   "id": "6d3db446",
   "metadata": {},
   "source": [
    "### Categorize Mechanisms by: Access, Decision Making, Enforcement"
   ]
  },
  {
   "cell_type": "code",
   "execution_count": 73,
   "id": "2fc430f4",
   "metadata": {},
   "outputs": [],
   "source": [
    "access = [\n",
    " 'cgis_include_meritocracy',\n",
    " 'cgis_include_age_boundaries',\n",
    " 'cgis_include_blood_relations',\n",
    " 'cgis_include_life_appointment',\n",
    " 'cgis_include_co-optation',\n",
    " 'cgis_include_patronage_for_office',\n",
    " 'cgis_include_heredity',\n",
    " 'cgis_include_lottery_random_selection',\n",
    " 'cgis_include_matriarchy',\n",
    " 'cgis_include_screening_process',\n",
    " 'cgis_include_property_requirement',\n",
    " 'cgis_include_induction_rite_ceremony',\n",
    " 'cgis_include_matrilineality',\n",
    " 'cgis_include_enfranchisement',\n",
    " 'cgis_include_popularity_',\n",
    " 'cgis_include_divine_right',\n",
    " 'cgis_include_payment_for_occupying_office',\n",
    " 'cgis_include_gerontocracy',\n",
    " 'cgis_include_open_political_unit',\n",
    " 'cgis_include_election',\n",
    " 'cgis_include_dreaming',\n",
    " 'cgis_include_female_participation'\n",
    "]\n",
    "\n",
    "decision_making = [\n",
    " 'cgis_include_secret_ballot',\n",
    " 'cgis_include_vote_by_proxy',\n",
    " 'cgis_include_voting',\n",
    " 'cgis_include_mandate',\n",
    " 'cgis_include_lobbying',\n",
    " 'cgis_include_representation',\n",
    " 'cgis_include_consensus',\n",
    " 'cgis_include_magistrate_official',\n",
    " 'cgis_include_word_of_mouth',\n",
    " 'cgis_include_consultation',\n",
    " 'cgis_include_checks_and_balances',\n",
    " 'cgis_include_council_central_',\n",
    " 'cgis_include_unanimity',\n",
    " 'cgis_include_kingchief-as-figurehead',\n",
    " 'cgis_include_deliberation',\n",
    " 'cgis_include_autocratic_leader_chief_bound',\n",
    " 'cgis_include_plurality_voting',\n",
    " 'cgis_include_leader_first_among_equals',\n",
    " 'cgis_include_power_fluidity',\n",
    " 'cgis_include_petition',\n",
    " 'cgis_include_delegation',\n",
    " 'cgis_include_vote_by_show_of_hands',\n",
    " 'cgis_include_temporary_position_of_power_term_limits',\n",
    " 'cgis_include_ratification_acclamation_only',\n",
    " 'cgis_include_rule_of_law',\n",
    " 'cgis_include_assembly_central',\n",
    " 'cgis_include_supermajority',\n",
    " 'cgis_include_handshake',\n",
    " 'cgis_include_bureaucracy',\n",
    " 'cgis_include_majority_voting',\n",
    " 'cgis_include_alliance',\n",
    " 'cgis_include_board_committee',\n",
    " 'cgis_include_dual-sex_political_system',\n",
    " 'cgis_include_remunerated_position',\n",
    " 'cgis_include_public_meetings',\n",
    " 'cgis_include_balance_of_power',\n",
    " 'cgis_include_consent',\n",
    " 'cgis_include_turnover_rotation',\n",
    " 'cgis_include_quorum',\n",
    " 'cgis_include_frequent_and_or_regular_meetings',\n",
    " 'cgis_include_confederacy',\n",
    " 'cgis_include_assembly_local',\n",
    " 'cgis_include_council_local',\n",
    " 'cgis_include_oath',\n",
    " 'cgis_include_constitution',\n",
    " 'cgis_include_president_consul_chief_executive',\n",
    " 'cgis_include_veto',\n",
    " 'cgis_include_autocratic_leader_unbound',\n",
    " 'cgis_include_assembly_elite',\n",
    " 'cgis_include_agenda_setting',\n",
    " 'cgis_include_group_voting',\n",
    " 'cgis_include_coalition',\n",
    " 'cgis_include_gathering',\n",
    "]\n",
    "\n",
    "enforcement = [\n",
    " 'cgis_include_negotiation',\n",
    " 'cgis_include_suspension_expulsion_ostracism_proscription',\n",
    " 'cgis_include_fines',\n",
    " 'cgis_include_criticism_mocking_joking',\n",
    " 'cgis_include_corporal_punishment_violence_against_perpetrator',\n",
    " 'cgis_include_forced_labour',\n",
    " 'cgis_include_paying_damages_compensation',\n",
    " 'cgis_include_seizing_of_property',\n",
    " 'cgis_include_monitoring',\n",
    " 'cgis_include_reputational_risk',\n",
    " 'cgis_include_appeal',\n",
    " 'cgis_include_graduated_sanctions',\n",
    " 'cgis_include_self-help',\n",
    " 'cgis_include_civil_disobedience',\n",
    " 'cgis_include_military_force',\n",
    " 'cgis_include_arbitration',\n",
    " 'cgis_include_police',\n",
    " 'cgis_include_exit',\n",
    " 'cgis_include_jury_judge',\n",
    " 'cgis_include_capital_punishment',\n",
    " 'cgis_include_mediation',\n",
    " 'cgis_include_destruction_of_property',\n",
    " 'cgis_include_litigation',\n",
    " 'cgis_include_tribunal_court_',\n",
    " 'cgis_include_judicial_review',\n",
    " 'cgis_include_scrutiny_of_officials',\n",
    "]\n"
   ]
  },
  {
   "cell_type": "code",
   "execution_count": 74,
   "id": "340fc540",
   "metadata": {},
   "outputs": [],
   "source": [
    "def categorize_cgi(cgi):\n",
    "    if cgi in access:\n",
    "        return 'access_'\n",
    "    elif cgi in decision_making:\n",
    "        return 'decision_making_'\n",
    "    elif cgi in enforcement:\n",
    "        return 'enforcement_'\n",
    "\n",
    "    return ''"
   ]
  },
  {
   "cell_type": "code",
   "execution_count": 75,
   "id": "afce1a45",
   "metadata": {
    "scrolled": false
   },
   "outputs": [],
   "source": [
    "for cgi in cgi_set:\n",
    "    cgi_str = cgi.lower().replace('/', '_').replace(' ','_').replace('(','').replace(')','') # Normalize text\n",
    "    cgi_name = 'cgis_include_' + cgi_str\n",
    "    \n",
    "    col_name = categorize_cgi(cgi_name) + cgi_name\n",
    "        \n",
    "    institutions_df[col_name] = np.where(institutions_df['CGI'].str.contains(cgi, regex=False), 1, 0)"
   ]
  },
  {
   "cell_type": "code",
   "execution_count": 76,
   "id": "7eef91d9",
   "metadata": {
    "scrolled": false
   },
   "outputs": [],
   "source": [
    "institutions_df.head()"
   ]
  },
  {
   "cell_type": "code",
   "execution_count": 77,
   "id": "a3cc5a38",
   "metadata": {
    "scrolled": true
   },
   "outputs": [],
   "source": [
    "cgi_columns = [col_name for col_name in list(institutions_df) if 'cgis_include_' in col_name]"
   ]
  },
  {
   "cell_type": "code",
   "execution_count": 78,
   "id": "f4e6792d",
   "metadata": {
    "scrolled": true
   },
   "outputs": [],
   "source": [
    "sorted(cgi_columns)"
   ]
  },
  {
   "cell_type": "code",
   "execution_count": 79,
   "id": "96d4764b",
   "metadata": {
    "scrolled": true
   },
   "outputs": [],
   "source": [
    "institutions_df[cgi_columns].sum().sort_values()"
   ]
  },
  {
   "cell_type": "markdown",
   "id": "64d5bb5a",
   "metadata": {},
   "source": [
    "## Merge datasets to include Size, Region, Geography, Time span columns"
   ]
  },
  {
   "cell_type": "code",
   "execution_count": 80,
   "id": "88fb3215",
   "metadata": {},
   "outputs": [],
   "source": [
    "merged_df = pd.merge(communities_df, institutions_df, left_on='Name', right_on='Communities')"
   ]
  },
  {
   "cell_type": "code",
   "execution_count": 81,
   "id": "ad1070b9",
   "metadata": {
    "scrolled": true
   },
   "outputs": [],
   "source": [
    "merged_df.head()"
   ]
  },
  {
   "cell_type": "code",
   "execution_count": 82,
   "id": "1eb333dd",
   "metadata": {},
   "outputs": [],
   "source": [
    "list(merged_df)"
   ]
  },
  {
   "cell_type": "code",
   "execution_count": 83,
   "id": "f940739e",
   "metadata": {},
   "outputs": [],
   "source": [
    "merged_df.rename(columns={'Communities': 'Community_Name', 'Name_y': 'Institution_Name'}, inplace=True)"
   ]
  },
  {
   "cell_type": "code",
   "execution_count": 84,
   "id": "b3cfc466",
   "metadata": {
    "scrolled": true
   },
   "outputs": [],
   "source": [
    "merged_df.drop(labels=['Name_x', 'Metanotes_y', 'Metanotes_x', 'expert check', 'FC comments', 'Institutions'], axis='columns', inplace=True)"
   ]
  },
  {
   "cell_type": "code",
   "execution_count": 85,
   "id": "23bc259f",
   "metadata": {
    "scrolled": true
   },
   "outputs": [],
   "source": [
    "merged_df.head()"
   ]
  },
  {
   "cell_type": "code",
   "execution_count": 86,
   "id": "dd028637",
   "metadata": {},
   "outputs": [],
   "source": [
    "# Move Institution_Name and Community_Name to front of dataframe\n",
    "cols_to_move = ['Institution_Name', 'Community_Name']\n",
    "merged_df = merged_df[cols_to_move + [col for col in merged_df.columns if col not in cols_to_move ]]"
   ]
  },
  {
   "cell_type": "code",
   "execution_count": 87,
   "id": "d224888c",
   "metadata": {
    "scrolled": true
   },
   "outputs": [],
   "source": [
    "merged_df.head()"
   ]
  },
  {
   "cell_type": "markdown",
   "id": "b6a5fb8f",
   "metadata": {},
   "source": [
    "### Write to CSV"
   ]
  },
  {
   "cell_type": "code",
   "execution_count": 88,
   "id": "bc47cce0",
   "metadata": {},
   "outputs": [],
   "source": [
    "# Write prepped dataset to csv\n",
    "merged_df.to_csv('../data/' + DATA_VERSION + '/institutions_data_prepped.csv', index=False)"
   ]
  },
  {
   "cell_type": "code",
   "execution_count": null,
   "id": "b3a936c4",
   "metadata": {},
   "outputs": [],
   "source": []
  },
  {
   "cell_type": "code",
   "execution_count": null,
   "id": "5cbdacd2",
   "metadata": {},
   "outputs": [],
   "source": []
  }
 ],
 "metadata": {
  "kernelspec": {
   "display_name": "Python 3 (ipykernel)",
   "language": "python",
   "name": "python3"
  },
  "language_info": {
   "codemirror_mode": {
    "name": "ipython",
    "version": 3
   },
   "file_extension": ".py",
   "mimetype": "text/x-python",
   "name": "python",
   "nbconvert_exporter": "python",
   "pygments_lexer": "ipython3",
   "version": "3.9.19"
  }
 },
 "nbformat": 4,
 "nbformat_minor": 5
}
