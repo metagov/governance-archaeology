{
 "cells": [
  {
   "cell_type": "markdown",
   "id": "e4ac70f9",
   "metadata": {},
   "source": [
    "### Imports"
   ]
  },
  {
   "cell_type": "code",
   "execution_count": 105,
   "id": "aaa77852",
   "metadata": {},
   "outputs": [],
   "source": [
    "import pandas as pd\n",
    "import numpy as np"
   ]
  },
  {
   "cell_type": "code",
   "execution_count": 106,
   "id": "2b689d89",
   "metadata": {},
   "outputs": [],
   "source": [
    "pd.options.display.max_rows = 4000\n",
    "pd.options.display.max_columns = 4000"
   ]
  },
  {
   "cell_type": "markdown",
   "id": "52f3b7c7",
   "metadata": {},
   "source": [
    "# Communities Data Prep"
   ]
  },
  {
   "cell_type": "markdown",
   "id": "49363d2b",
   "metadata": {},
   "source": [
    "## Clean and explore data"
   ]
  },
  {
   "cell_type": "code",
   "execution_count": 107,
   "id": "70a04e64",
   "metadata": {},
   "outputs": [],
   "source": [
    "gov_arch_csv = 'data/Communities-Grid-view.csv'"
   ]
  },
  {
   "cell_type": "code",
   "execution_count": 108,
   "id": "cbff89ad",
   "metadata": {},
   "outputs": [],
   "source": [
    "gov_df = pd.read_csv(gov_arch_csv)"
   ]
  },
  {
   "cell_type": "code",
   "execution_count": 109,
   "id": "13425cfa",
   "metadata": {},
   "outputs": [
    {
     "data": {
      "text/html": [
       "<div>\n",
       "<style scoped>\n",
       "    .dataframe tbody tr th:only-of-type {\n",
       "        vertical-align: middle;\n",
       "    }\n",
       "\n",
       "    .dataframe tbody tr th {\n",
       "        vertical-align: top;\n",
       "    }\n",
       "\n",
       "    .dataframe thead th {\n",
       "        text-align: right;\n",
       "    }\n",
       "</style>\n",
       "<table border=\"1\" class=\"dataframe\">\n",
       "  <thead>\n",
       "    <tr style=\"text-align: right;\">\n",
       "      <th></th>\n",
       "      <th>Name</th>\n",
       "      <th>Institutions</th>\n",
       "      <th>Mechanism</th>\n",
       "      <th>Culture/Values/Norms</th>\n",
       "      <th>Notes</th>\n",
       "      <th>Time span</th>\n",
       "      <th>Time span: Start</th>\n",
       "      <th>Time span: End</th>\n",
       "      <th>Geography</th>\n",
       "      <th>Size</th>\n",
       "      <th>Source</th>\n",
       "      <th>Metanotes</th>\n",
       "      <th>Heterogeneity</th>\n",
       "      <th>FC comments</th>\n",
       "      <th>expert check</th>\n",
       "    </tr>\n",
       "  </thead>\n",
       "  <tbody>\n",
       "    <tr>\n",
       "      <th>0</th>\n",
       "      <td>!Kung San (Ju/hoansi)</td>\n",
       "      <td>Hxaro,Headman,Group,Kgotla</td>\n",
       "      <td>Leader (first among equals),Deliberation,Corpo...</td>\n",
       "      <td>Reciprocity,Cooperation,Egalitarianism,Generos...</td>\n",
       "      <td>Hxaro - System of mutual reciprocity and socia...</td>\n",
       "      <td>20th century - Present\\n(dates are arbitrary)</td>\n",
       "      <td>1900</td>\n",
       "      <td>2023</td>\n",
       "      <td>Africa South</td>\n",
       "      <td>1,001 - 10,000</td>\n",
       "      <td>Polly Wiessner (1982), Risk, reciprocity and s...</td>\n",
       "      <td>Standing in for small-scale egalitarian bands....</td>\n",
       "      <td>NaN</td>\n",
       "      <td>Edited April 23</td>\n",
       "      <td>NaN</td>\n",
       "    </tr>\n",
       "    <tr>\n",
       "      <th>1</th>\n",
       "      <td>Aedui (Celtic Oppida)</td>\n",
       "      <td>Senatus,Elected magistrates,Assemblies</td>\n",
       "      <td>Election,Council (central) ,Assembly (central)...</td>\n",
       "      <td>Shared identity/Kinship</td>\n",
       "      <td>There are many Celtic oppida throughout northe...</td>\n",
       "      <td>2nd-1st century BC</td>\n",
       "      <td>-200</td>\n",
       "      <td>0</td>\n",
       "      <td>Europe North</td>\n",
       "      <td>100,001 - 1 million members</td>\n",
       "      <td>Collis, “Celtic” Oppida, in Hansen, A Comparat...</td>\n",
       "      <td>NaN</td>\n",
       "      <td>NaN</td>\n",
       "      <td>Edited March 23</td>\n",
       "      <td>NaN</td>\n",
       "    </tr>\n",
       "    <tr>\n",
       "      <th>2</th>\n",
       "      <td>Akha</td>\n",
       "      <td>Council of Elders,Village Founder-Leader (dzom...</td>\n",
       "      <td>Leader (first among equals),Gerontocracy,Conse...</td>\n",
       "      <td>Shared identity/Kinship,Ritual,Supernatural,Wr...</td>\n",
       "      <td>NaN</td>\n",
       "      <td>20th century - Present</td>\n",
       "      <td>1900</td>\n",
       "      <td>2023</td>\n",
       "      <td>Asia Southeast</td>\n",
       "      <td>10,001 - 100,000</td>\n",
       "      <td>Main: \\nKammerer, Cornelia Ann (1985/86), Gate...</td>\n",
       "      <td>NaN</td>\n",
       "      <td>Informal inclusion,Gender groups,Informal powe...</td>\n",
       "      <td>Edited May 23</td>\n",
       "      <td>NaN</td>\n",
       "    </tr>\n",
       "    <tr>\n",
       "      <th>3</th>\n",
       "      <td>Amalfi</td>\n",
       "      <td>Prefetturii/ Conti/ Dogi,Sedile di congrega,Ta...</td>\n",
       "      <td>Election,Magistrate/official,Heredity,Constitu...</td>\n",
       "      <td>Written rules,Cooperation,Obedience to authori...</td>\n",
       "      <td>Camera, M, p. 29 (\"La sua popolazione che nel ...</td>\n",
       "      <td>4th-12th century AD</td>\n",
       "      <td>300</td>\n",
       "      <td>1200</td>\n",
       "      <td>Europe West</td>\n",
       "      <td>10,001 - 100,000</td>\n",
       "      <td>Camera, M. Istoria della città e costiera di A...</td>\n",
       "      <td>NaN</td>\n",
       "      <td>NaN</td>\n",
       "      <td>Edited March 23 (could use more info on CGIs)</td>\n",
       "      <td>NaN</td>\n",
       "    </tr>\n",
       "    <tr>\n",
       "      <th>4</th>\n",
       "      <td>Arab nomads</td>\n",
       "      <td>shaykh or sayyid,shura or mashwara</td>\n",
       "      <td>Consensus,Oath,Handshake,Leader (first among e...</td>\n",
       "      <td>NaN</td>\n",
       "      <td>Nomadic Bedouin society governed by rulers sel...</td>\n",
       "      <td>1st-7th century AD\\n(start date is arbitrary, ...</td>\n",
       "      <td>0</td>\n",
       "      <td>700</td>\n",
       "      <td>Middle East</td>\n",
       "      <td>Unknown</td>\n",
       "      <td>Stasavage, David (2020), The Decline and Rise ...</td>\n",
       "      <td>NaN</td>\n",
       "      <td>NaN</td>\n",
       "      <td>Edited Feb 23 (could use additional sources fo...</td>\n",
       "      <td>NaN</td>\n",
       "    </tr>\n",
       "  </tbody>\n",
       "</table>\n",
       "</div>"
      ],
      "text/plain": [
       "                    Name                                       Institutions  \\\n",
       "0  !Kung San (Ju/hoansi)                         Hxaro,Headman,Group,Kgotla   \n",
       "1  Aedui (Celtic Oppida)             Senatus,Elected magistrates,Assemblies   \n",
       "2                   Akha  Council of Elders,Village Founder-Leader (dzom...   \n",
       "3                 Amalfi  Prefetturii/ Conti/ Dogi,Sedile di congrega,Ta...   \n",
       "4            Arab nomads                 shaykh or sayyid,shura or mashwara   \n",
       "\n",
       "                                           Mechanism  \\\n",
       "0  Leader (first among equals),Deliberation,Corpo...   \n",
       "1  Election,Council (central) ,Assembly (central)...   \n",
       "2  Leader (first among equals),Gerontocracy,Conse...   \n",
       "3  Election,Magistrate/official,Heredity,Constitu...   \n",
       "4  Consensus,Oath,Handshake,Leader (first among e...   \n",
       "\n",
       "                                Culture/Values/Norms  \\\n",
       "0  Reciprocity,Cooperation,Egalitarianism,Generos...   \n",
       "1                            Shared identity/Kinship   \n",
       "2  Shared identity/Kinship,Ritual,Supernatural,Wr...   \n",
       "3  Written rules,Cooperation,Obedience to authori...   \n",
       "4                                                NaN   \n",
       "\n",
       "                                               Notes  \\\n",
       "0  Hxaro - System of mutual reciprocity and socia...   \n",
       "1  There are many Celtic oppida throughout northe...   \n",
       "2                                                NaN   \n",
       "3  Camera, M, p. 29 (\"La sua popolazione che nel ...   \n",
       "4  Nomadic Bedouin society governed by rulers sel...   \n",
       "\n",
       "                                           Time span  Time span: Start  \\\n",
       "0      20th century - Present\\n(dates are arbitrary)              1900   \n",
       "1                                 2nd-1st century BC              -200   \n",
       "2                             20th century - Present              1900   \n",
       "3                                4th-12th century AD               300   \n",
       "4  1st-7th century AD\\n(start date is arbitrary, ...                 0   \n",
       "\n",
       "   Time span: End        Geography                         Size  \\\n",
       "0            2023     Africa South               1,001 - 10,000   \n",
       "1               0     Europe North  100,001 - 1 million members   \n",
       "2            2023  Asia Southeast              10,001 - 100,000   \n",
       "3            1200      Europe West             10,001 - 100,000   \n",
       "4             700      Middle East                      Unknown   \n",
       "\n",
       "                                              Source  \\\n",
       "0  Polly Wiessner (1982), Risk, reciprocity and s...   \n",
       "1  Collis, “Celtic” Oppida, in Hansen, A Comparat...   \n",
       "2  Main: \\nKammerer, Cornelia Ann (1985/86), Gate...   \n",
       "3  Camera, M. Istoria della città e costiera di A...   \n",
       "4  Stasavage, David (2020), The Decline and Rise ...   \n",
       "\n",
       "                                           Metanotes  \\\n",
       "0  Standing in for small-scale egalitarian bands....   \n",
       "1                                                NaN   \n",
       "2                                                NaN   \n",
       "3                                                NaN   \n",
       "4                                                NaN   \n",
       "\n",
       "                                      Heterogeneity   \\\n",
       "0                                                NaN   \n",
       "1                                                NaN   \n",
       "2  Informal inclusion,Gender groups,Informal powe...   \n",
       "3                                                NaN   \n",
       "4                                                NaN   \n",
       "\n",
       "                                         FC comments expert check  \n",
       "0                                    Edited April 23          NaN  \n",
       "1                                    Edited March 23          NaN  \n",
       "2                                      Edited May 23          NaN  \n",
       "3      Edited March 23 (could use more info on CGIs)          NaN  \n",
       "4  Edited Feb 23 (could use additional sources fo...          NaN  "
      ]
     },
     "execution_count": 109,
     "metadata": {},
     "output_type": "execute_result"
    }
   ],
   "source": [
    "gov_df.head()"
   ]
  },
  {
   "cell_type": "code",
   "execution_count": 110,
   "id": "3acc4a50",
   "metadata": {},
   "outputs": [
    {
     "data": {
      "text/html": [
       "<div>\n",
       "<style scoped>\n",
       "    .dataframe tbody tr th:only-of-type {\n",
       "        vertical-align: middle;\n",
       "    }\n",
       "\n",
       "    .dataframe tbody tr th {\n",
       "        vertical-align: top;\n",
       "    }\n",
       "\n",
       "    .dataframe thead th {\n",
       "        text-align: right;\n",
       "    }\n",
       "</style>\n",
       "<table border=\"1\" class=\"dataframe\">\n",
       "  <thead>\n",
       "    <tr style=\"text-align: right;\">\n",
       "      <th></th>\n",
       "      <th>Time span: Start</th>\n",
       "      <th>Time span: End</th>\n",
       "    </tr>\n",
       "  </thead>\n",
       "  <tbody>\n",
       "    <tr>\n",
       "      <th>count</th>\n",
       "      <td>66.000000</td>\n",
       "      <td>66.000000</td>\n",
       "    </tr>\n",
       "    <tr>\n",
       "      <th>mean</th>\n",
       "      <td>602.242424</td>\n",
       "      <td>975.590909</td>\n",
       "    </tr>\n",
       "    <tr>\n",
       "      <th>std</th>\n",
       "      <td>1379.228157</td>\n",
       "      <td>1260.662805</td>\n",
       "    </tr>\n",
       "    <tr>\n",
       "      <th>min</th>\n",
       "      <td>-4100.000000</td>\n",
       "      <td>-3300.000000</td>\n",
       "    </tr>\n",
       "    <tr>\n",
       "      <th>25%</th>\n",
       "      <td>-460.000000</td>\n",
       "      <td>-27.000000</td>\n",
       "    </tr>\n",
       "    <tr>\n",
       "      <th>50%</th>\n",
       "      <td>1100.000000</td>\n",
       "      <td>1580.000000</td>\n",
       "    </tr>\n",
       "    <tr>\n",
       "      <th>75%</th>\n",
       "      <td>1700.000000</td>\n",
       "      <td>1900.000000</td>\n",
       "    </tr>\n",
       "    <tr>\n",
       "      <th>max</th>\n",
       "      <td>1900.000000</td>\n",
       "      <td>2023.000000</td>\n",
       "    </tr>\n",
       "  </tbody>\n",
       "</table>\n",
       "</div>"
      ],
      "text/plain": [
       "       Time span: Start  Time span: End\n",
       "count         66.000000       66.000000\n",
       "mean         602.242424      975.590909\n",
       "std         1379.228157     1260.662805\n",
       "min        -4100.000000    -3300.000000\n",
       "25%         -460.000000      -27.000000\n",
       "50%         1100.000000     1580.000000\n",
       "75%         1700.000000     1900.000000\n",
       "max         1900.000000     2023.000000"
      ]
     },
     "execution_count": 110,
     "metadata": {},
     "output_type": "execute_result"
    }
   ],
   "source": [
    "gov_df.describe()"
   ]
  },
  {
   "cell_type": "code",
   "execution_count": 111,
   "id": "a72454ac",
   "metadata": {},
   "outputs": [
    {
     "data": {
      "text/plain": [
       "['Name',\n",
       " 'Institutions',\n",
       " 'Mechanism',\n",
       " 'Culture/Values/Norms',\n",
       " 'Notes',\n",
       " 'Time span',\n",
       " 'Time span: Start',\n",
       " 'Time span: End',\n",
       " 'Geography',\n",
       " 'Size',\n",
       " 'Source',\n",
       " 'Metanotes',\n",
       " 'Heterogeneity ',\n",
       " 'FC comments',\n",
       " 'expert check']"
      ]
     },
     "execution_count": 111,
     "metadata": {},
     "output_type": "execute_result"
    }
   ],
   "source": [
    "list(gov_df)"
   ]
  },
  {
   "cell_type": "markdown",
   "id": "b4493a57",
   "metadata": {},
   "source": [
    "# Data prep"
   ]
  },
  {
   "cell_type": "code",
   "execution_count": 112,
   "id": "225cb08b",
   "metadata": {},
   "outputs": [],
   "source": [
    "gov_df = gov_df"
   ]
  },
  {
   "cell_type": "markdown",
   "id": "caed7969",
   "metadata": {},
   "source": [
    "## Mechanisms"
   ]
  },
  {
   "cell_type": "code",
   "execution_count": 113,
   "id": "6c082c6d",
   "metadata": {
    "scrolled": true
   },
   "outputs": [
    {
     "data": {
      "text/plain": [
       "0     Leader (first among equals),Deliberation,Corpo...\n",
       "1     Election,Council (central) ,Assembly (central)...\n",
       "2     Leader (first among equals),Gerontocracy,Conse...\n",
       "3     Election,Magistrate/official,Heredity,Constitu...\n",
       "4     Consensus,Oath,Handshake,Leader (first among e...\n",
       "5     President/Consul/Chief Executive,Assembly (cen...\n",
       "6     Election,Plurality voting,Temporary position o...\n",
       "7     Autocratic Leader/Chief (bound),Heredity,Merit...\n",
       "8     Leader (first among equals),Assembly (central)...\n",
       "9     Autocratic Leader/Chief (bound),Blood relation...\n",
       "10    Leader (first among equals),Heredity,Matriline...\n",
       "11    Meritocracy,Oath,Military force,Remunerated po...\n",
       "12           Council (central) ,Gerontocracy,Matriarchy\n",
       "13    Co-optation,Voting,Election,Temporary position...\n",
       "14    Autocratic Leader/Chief (bound),Consultation,A...\n",
       "15    Assembly (central),Confederacy,Turnover/rotati...\n",
       "16    Autocratic Leader/Chief (bound),Council (centr...\n",
       "17    Petition,Autocratic Leader (unbound),Divine ri...\n",
       "18    Autocratic Leader/Chief (bound),Jury/Judge,Con...\n",
       "19    Magistrate/official,Alliance,Enfranchisement,B...\n",
       "20    Deliberation,Consensus,Exit,Open political uni...\n",
       "21    President/Consul/Chief Executive,Council (cent...\n",
       "22    President/Consul/Chief Executive,Board/Committ...\n",
       "23    Assembly (central),Frequent and/or regular mee...\n",
       "24    Assembly (central),Council (central) ,Magistra...\n",
       "25    Matriarchy,Consensus,Council (central) ,Judici...\n",
       "26    Autocratic Leader/Chief (bound),Council (centr...\n",
       "27    Dreaming,Deliberation,Meritocracy,Assembly (ce...\n",
       "28    Gerontocracy,Election,Plurality voting,Meritoc...\n",
       "29    Assembly (central),Assembly (local),Frequent a...\n",
       "30    Dual-sex political system,Matriarchy,Assembly ...\n",
       "31    Assembly (central),Autocratic Leader/Chief (bo...\n",
       "32    Magistrate/official,President/Consul/Chief Exe...\n",
       "33    Autocratic Leader/Chief (bound),Council (centr...\n",
       "34    Consensus,Election,Council (local),Lottery/Ran...\n",
       "35    Autocratic Leader/Chief (bound),Checks and bal...\n",
       "36    Leader (first among equals),Matriarchy,Blood r...\n",
       "37    Council (central) ,Assembly (central),Open pol...\n",
       "38    Council (central) ,Council (local),Tribunal/Co...\n",
       "39    Gerontocracy,Council (central) ,Frequent and/o...\n",
       "40    Autocratic Leader/Chief (bound),Consent,Magist...\n",
       "41    Council (local),Tribunal/Court ,Constitution,H...\n",
       "42    Autocratic Leader (unbound),Council (central) ...\n",
       "43    Council (central) ,Leader (first among equals)...\n",
       "44    Autocratic Leader/Chief (bound),Assembly (cent...\n",
       "45    Matrilineality,Matriarchy,Leader (first among ...\n",
       "46    Leader (first among equals),Voting,Meritocracy...\n",
       "47    Autocratic Leader (unbound),Self-help,Capital ...\n",
       "48                     Assembly (local),Public meetings\n",
       "49    Constitution,Election,Assembly (local),Council...\n",
       "50    Leader (first among equals),Meritocracy,Voting...\n",
       "51    Assembly (local),Meritocracy,Turnover/rotation...\n",
       "52    Leader (first among equals),Council (local),Ge...\n",
       "53    Autocratic Leader/Chief (bound),Council (centr...\n",
       "54    Magistrate/official,Election,Constitution,Here...\n",
       "55    Leader (first among equals),Election,Blood rel...\n",
       "56    Rule of Law,Bureaucracy,Temporary position of ...\n",
       "57    Autocratic Leader/Chief (bound),Assembly (loca...\n",
       "58    Assembly (central),Assembly (elite),Frequent a...\n",
       "59    Election,Magistrate/official,Council (central)...\n",
       "60    Autocratic Leader/Chief (bound),Council (centr...\n",
       "61    Confederacy,Assembly (central),Assembly (elite...\n",
       "62    Civil disobedience,Rule of Law,King(chief)-as-...\n",
       "63    Council (central) ,Meritocracy,Remunerated pos...\n",
       "64    Election,Monitoring,Coalition,Magistrate/offic...\n",
       "65    Council (central) ,Matriarchy,Dual-sex politic...\n",
       "Name: Mechanism, dtype: object"
      ]
     },
     "execution_count": 113,
     "metadata": {},
     "output_type": "execute_result"
    }
   ],
   "source": [
    "gov_df['Mechanism']"
   ]
  },
  {
   "cell_type": "code",
   "execution_count": 114,
   "id": "57043bb1",
   "metadata": {},
   "outputs": [],
   "source": [
    "mechanism_list = list(gov_df['Mechanism'])"
   ]
  },
  {
   "cell_type": "code",
   "execution_count": 115,
   "id": "a1fc6f36",
   "metadata": {},
   "outputs": [],
   "source": [
    "mech_test = mechanism_list[0]"
   ]
  },
  {
   "cell_type": "code",
   "execution_count": 116,
   "id": "d55d0638",
   "metadata": {},
   "outputs": [
    {
     "data": {
      "text/plain": [
       "['Leader (first among equals)',\n",
       " 'Deliberation',\n",
       " 'Corporal punishment/Violence against perpetrator',\n",
       " 'Self-help',\n",
       " 'Mediation',\n",
       " 'Negotiation',\n",
       " 'Exit',\n",
       " 'Criticism/Mocking/Joking',\n",
       " 'Reputational risk',\n",
       " 'Suspension/Expulsion/Ostracism/Proscription',\n",
       " 'Tribunal/Court ',\n",
       " 'Meritocracy']"
      ]
     },
     "execution_count": 116,
     "metadata": {},
     "output_type": "execute_result"
    }
   ],
   "source": [
    "mech_test.split(',')"
   ]
  },
  {
   "cell_type": "code",
   "execution_count": 117,
   "id": "af19c4e0",
   "metadata": {},
   "outputs": [],
   "source": [
    "test_set = set()"
   ]
  },
  {
   "cell_type": "code",
   "execution_count": null,
   "id": "3125feac",
   "metadata": {},
   "outputs": [],
   "source": [
    "test_set.update(mech_test.split(','))\n",
    "test_set"
   ]
  },
  {
   "cell_type": "code",
   "execution_count": null,
   "id": "171bd5ce",
   "metadata": {},
   "outputs": [],
   "source": [
    "mechanism_set = set()"
   ]
  },
  {
   "cell_type": "code",
   "execution_count": null,
   "id": "778242e7",
   "metadata": {
    "scrolled": true
   },
   "outputs": [],
   "source": [
    "# Create set of all mechanisms\n",
    "[mechanism_set.update(mechanisms.split(',')) for mechanisms in mechanism_list]\n",
    "mechanism_set"
   ]
  },
  {
   "cell_type": "markdown",
   "id": "79fcb64a",
   "metadata": {},
   "source": [
    "### Add mechanism columns\n",
    "Add columns in the format of `mechanism_is_{mechanism}`"
   ]
  },
  {
   "cell_type": "code",
   "execution_count": null,
   "id": "b70c760e",
   "metadata": {},
   "outputs": [],
   "source": [
    "test_df = gov_df[gov_df['Mechanism'].str.contains('Patronage (for office)', regex=False)]"
   ]
  },
  {
   "cell_type": "code",
   "execution_count": null,
   "id": "90e98708",
   "metadata": {
    "scrolled": true
   },
   "outputs": [],
   "source": [
    "test_df"
   ]
  },
  {
   "cell_type": "code",
   "execution_count": null,
   "id": "0c77afc6",
   "metadata": {
    "scrolled": true
   },
   "outputs": [],
   "source": [
    "gov_df['Mechanism']"
   ]
  },
  {
   "cell_type": "code",
   "execution_count": null,
   "id": "1aa84964",
   "metadata": {
    "scrolled": true
   },
   "outputs": [],
   "source": [
    "mechanism_set"
   ]
  },
  {
   "cell_type": "markdown",
   "id": "5425869a",
   "metadata": {},
   "source": [
    "### Categorize Mechanisms by: Access, Decision Making, Enforcement"
   ]
  },
  {
   "cell_type": "code",
   "execution_count": null,
   "id": "3430756b",
   "metadata": {},
   "outputs": [],
   "source": [
    "access = [\n",
    " 'mechanisms_include_meritocracy',\n",
    " 'mechanisms_include_age_boundaries',\n",
    " 'mechanisms_include_blood_relations',\n",
    " 'mechanisms_include_life_appointment',\n",
    " 'mechanisms_include_co-optation',\n",
    " 'mechanisms_include_patronage_for_office',\n",
    " 'mechanisms_include_heredity',\n",
    " 'mechanisms_include_lottery_random_selection',\n",
    " 'mechanisms_include_matriarchy',\n",
    " 'mechanisms_include_screening_process',\n",
    " 'mechanisms_include_property_requirement',\n",
    " 'mechanisms_include_induction_rite_ceremony',\n",
    " 'mechanisms_include_matrilineality',\n",
    " 'mechanisms_include_enfranchisement',\n",
    " 'mechanisms_include_popularity_',\n",
    " 'mechanisms_include_divine_right',\n",
    " 'mechanisms_include_payment_for_occupying_office',\n",
    " 'mechanisms_include_gerontocracy',\n",
    " 'mechanisms_include_open_political_unit',\n",
    " 'mechanisms_include_election',\n",
    " 'mechanisms_include_dreaming'\n",
    "]\n",
    "\n",
    "decision_making = [\n",
    " 'mechanisms_include_secret_ballot',\n",
    " 'mechanisms_include_vote_by_proxy',\n",
    " 'mechanisms_include_voting',\n",
    " 'mechanisms_include_mandate',\n",
    " 'mechanisms_include_lobbying',\n",
    " 'mechanisms_include_representation',\n",
    " 'mechanisms_include_consensus',\n",
    " 'mechanisms_include_magistrate_official',\n",
    " 'mechanisms_include_word_of_mouth',\n",
    " 'mechanisms_include_consultation',\n",
    " 'mechanisms_include_checks_and_balances',\n",
    " 'mechanisms_include_council_central_',\n",
    " 'mechanisms_include_unanimity',\n",
    " 'mechanisms_include_kingchief-as-figurehead',\n",
    " 'mechanisms_include_deliberation',\n",
    " 'mechanisms_include_autocratic_leader_chief_bound',\n",
    " 'mechanisms_include_plurality_voting',\n",
    " 'mechanisms_include_leader_first_among_equals',\n",
    " 'mechanisms_include_power_fluidity',\n",
    " 'mechanisms_include_petition',\n",
    " 'mechanisms_include_delegation',\n",
    " 'mechanisms_include_vote_by_show_of_hands',\n",
    " 'mechanisms_include_temporary_position_of_power_term_limits',\n",
    " 'mechanisms_include_ratification_acclamation_only',\n",
    " 'mechanisms_include_rule_of_law',\n",
    " 'mechanisms_include_assembly_central',\n",
    " 'mechanisms_include_supermajority',\n",
    " 'mechanisms_include_handshake',\n",
    " 'mechanisms_include_bureaucracy',\n",
    " 'mechanisms_include_majority_voting',\n",
    " 'mechanisms_include_alliance',\n",
    " 'mechanisms_include_board_committee',\n",
    " 'mechanisms_include_dual-sex_political_system',\n",
    " 'mechanisms_include_remunerated_position',\n",
    " 'mechanisms_include_public_meetings',\n",
    " 'mechanisms_include_balance_of_power',\n",
    " 'mechanisms_include_consent',\n",
    " 'mechanisms_include_turnover_rotation',\n",
    " 'mechanisms_include_quorum',\n",
    " 'mechanisms_include_frequent_and_or_regular_meetings',\n",
    " 'mechanisms_include_confederacy',\n",
    " 'mechanisms_include_assembly_local',\n",
    " 'mechanisms_include_council_local',\n",
    " 'mechanisms_include_oath',\n",
    " 'mechanisms_include_constitution',\n",
    " 'mechanisms_include_president_consul_chief_executive',\n",
    " 'mechanisms_include_veto',\n",
    " 'mechanisms_include_autocratic_leader_unbound',\n",
    " 'mechanisms_include_assembly_elite',\n",
    " 'mechanisms_include_agenda_setting',\n",
    " 'mechanisms_include_group_voting',\n",
    " 'mechanisms_include_coalition'\n",
    "]\n",
    "\n",
    "enforcement = [\n",
    " 'mechanisms_include_negotiation',\n",
    " 'mechanisms_include_suspension_expulsion_ostracism_proscription',\n",
    " 'mechanisms_include_fines',\n",
    " 'mechanisms_include_criticism_mocking_joking',\n",
    " 'mechanisms_include_corporal_punishment_violence_against_perpetrator',\n",
    " 'mechanisms_include_forced_labour',\n",
    " 'mechanisms_include_paying_damages_compensation',\n",
    " 'mechanisms_include_seizing_of_property',\n",
    " 'mechanisms_include_monitoring',\n",
    " 'mechanisms_include_reputational_risk',\n",
    " 'mechanisms_include_appeal',\n",
    " 'mechanisms_include_graduated_sanctions',\n",
    " 'mechanisms_include_self-help',\n",
    " 'mechanisms_include_civil_disobedience',\n",
    " 'mechanisms_include_military_force',\n",
    " 'mechanisms_include_arbitration',\n",
    " 'mechanisms_include_police',\n",
    " 'mechanisms_include_exit',\n",
    " 'mechanisms_include_jury_judge',\n",
    " 'mechanisms_include_capital_punishment',\n",
    " 'mechanisms_include_mediation',\n",
    " 'mechanisms_include_destruction_of_property',\n",
    " 'mechanisms_include_litigation',\n",
    " 'mechanisms_include_tribunal_court_',\n",
    " 'mechanisms_include_judicial_review',\n",
    " 'mechanisms_include_scrutiny_of_officials'\n",
    "]"
   ]
  },
  {
   "cell_type": "code",
   "execution_count": null,
   "id": "c3f38bc5",
   "metadata": {},
   "outputs": [],
   "source": [
    "def categorize_mechanism(mechanism):\n",
    "    if mechanism in access:\n",
    "        return 'access_'\n",
    "    elif mechanism in decision_making:\n",
    "        return 'decision_making_'\n",
    "    elif mechanism in enforcement:\n",
    "        return 'enforcement_'\n",
    "\n",
    "    return ''"
   ]
  },
  {
   "cell_type": "code",
   "execution_count": null,
   "id": "c3d372c8",
   "metadata": {
    "scrolled": true
   },
   "outputs": [],
   "source": [
    "for mechanism in mechanism_set:\n",
    "    mechanism_str = mechanism.lower().replace(' ', '_').replace('/', '_').replace('(','').replace(')','') # Normalize text\n",
    "    mechanism_name = 'mechanisms_include_' + mechanism_str\n",
    "    col_name = categorize_mechanism(mechanism_name) + mechanism_name\n",
    "    \n",
    "    gov_df[col_name] = np.where(gov_df['Mechanism'].str.contains(mechanism, regex=False), 1, 0)"
   ]
  },
  {
   "cell_type": "code",
   "execution_count": null,
   "id": "625e7810",
   "metadata": {},
   "outputs": [],
   "source": [
    "list(gov_df.columns)"
   ]
  },
  {
   "cell_type": "code",
   "execution_count": null,
   "id": "fc22c5f7",
   "metadata": {
    "scrolled": true
   },
   "outputs": [],
   "source": [
    "mechanisms = [mechanism for mechanism in list(gov_df.columns) if 'mechanisms_include' in mechanism]"
   ]
  },
  {
   "cell_type": "code",
   "execution_count": null,
   "id": "f6f8fa0d",
   "metadata": {},
   "outputs": [],
   "source": [
    "access_mechanisms = [mechanism for mechanism in list(gov_df.columns) if 'access_' in mechanism]"
   ]
  },
  {
   "cell_type": "code",
   "execution_count": null,
   "id": "452fed9b",
   "metadata": {},
   "outputs": [],
   "source": [
    "decision_making_mechanisms = [mechanism for mechanism in list(gov_df.columns) if 'decision_making_' in mechanism]"
   ]
  },
  {
   "cell_type": "code",
   "execution_count": null,
   "id": "01bc59e6",
   "metadata": {},
   "outputs": [],
   "source": [
    "enforcement_mechanisms = [mechanism for mechanism in list(gov_df.columns) if 'enforcement_' in mechanism]"
   ]
  },
  {
   "cell_type": "code",
   "execution_count": null,
   "id": "08a324ab",
   "metadata": {
    "scrolled": true
   },
   "outputs": [],
   "source": [
    "mechanisms"
   ]
  },
  {
   "cell_type": "code",
   "execution_count": null,
   "id": "f6e678fa",
   "metadata": {},
   "outputs": [],
   "source": [
    "len(mechanisms)"
   ]
  },
  {
   "cell_type": "code",
   "execution_count": null,
   "id": "f1efb440",
   "metadata": {},
   "outputs": [],
   "source": [
    "len(access_mechanisms) + len(decision_making_mechanisms) + len(enforcement_mechanisms)"
   ]
  },
  {
   "cell_type": "code",
   "execution_count": null,
   "id": "e340ac0e",
   "metadata": {},
   "outputs": [],
   "source": [
    "access_mechanisms"
   ]
  },
  {
   "cell_type": "code",
   "execution_count": null,
   "id": "f34d1e95",
   "metadata": {},
   "outputs": [],
   "source": [
    "len(mechanisms)"
   ]
  },
  {
   "cell_type": "code",
   "execution_count": null,
   "id": "b462233f",
   "metadata": {
    "scrolled": true
   },
   "outputs": [],
   "source": [
    "gov_df[mechanisms].sum().sort_values(ascending=True)"
   ]
  },
  {
   "cell_type": "code",
   "execution_count": null,
   "id": "ee15c5f6",
   "metadata": {},
   "outputs": [],
   "source": [
    "gov_df[mechanisms].head()"
   ]
  },
  {
   "cell_type": "code",
   "execution_count": null,
   "id": "070531a7",
   "metadata": {},
   "outputs": [],
   "source": []
  },
  {
   "cell_type": "markdown",
   "id": "07853209",
   "metadata": {},
   "source": [
    "## Culture/Values/Norms"
   ]
  },
  {
   "cell_type": "code",
   "execution_count": null,
   "id": "7bb8c091",
   "metadata": {
    "scrolled": true
   },
   "outputs": [],
   "source": [
    "# gov_df['Culture/Values/Norms'] = gov_df['Culture/Values/Norms'].fillna('')"
   ]
  },
  {
   "cell_type": "code",
   "execution_count": null,
   "id": "daf2fa4a",
   "metadata": {
    "scrolled": true
   },
   "outputs": [],
   "source": [
    "# gov_df['Culture/Values/Norms']"
   ]
  },
  {
   "cell_type": "code",
   "execution_count": null,
   "id": "01a16cfc",
   "metadata": {},
   "outputs": [],
   "source": [
    "# values_list = list(gov_df['Culture/Values/Norms'])"
   ]
  },
  {
   "cell_type": "code",
   "execution_count": null,
   "id": "6ae19e2b",
   "metadata": {},
   "outputs": [],
   "source": [
    "# values_test = values_list[0]\n",
    "# values_test"
   ]
  },
  {
   "cell_type": "code",
   "execution_count": null,
   "id": "220d9026",
   "metadata": {},
   "outputs": [],
   "source": [
    "# [v.strip() for v in values_test.split(',')]"
   ]
  },
  {
   "cell_type": "code",
   "execution_count": null,
   "id": "af8d5e3e",
   "metadata": {},
   "outputs": [],
   "source": [
    "# values_set = set()"
   ]
  },
  {
   "cell_type": "code",
   "execution_count": null,
   "id": "201e775a",
   "metadata": {
    "scrolled": true
   },
   "outputs": [],
   "source": [
    "# Create set of all values\n",
    "# [values_set.update([v.strip() for v in values.split(',')]) for values in values_list]\n",
    "# values_set"
   ]
  },
  {
   "cell_type": "code",
   "execution_count": null,
   "id": "263701f1",
   "metadata": {},
   "outputs": [],
   "source": [
    "# values_set.remove('')"
   ]
  },
  {
   "cell_type": "code",
   "execution_count": null,
   "id": "17648808",
   "metadata": {
    "scrolled": true
   },
   "outputs": [],
   "source": [
    "# values_set"
   ]
  },
  {
   "cell_type": "code",
   "execution_count": null,
   "id": "fd1ec3dc",
   "metadata": {},
   "outputs": [],
   "source": [
    "\"\"\"\n",
    "for value in values_set:\n",
    "    value_str = value.lower().replace('/', '_').replace(' ','_').replace('(','').replace(')','') # Normalize text\n",
    "    col_name = 'values_include_' + value_str\n",
    "    gov_df[col_name] = np.where(gov_df['Culture/Values/Norms'].str.contains(value, regex=False), 1, 0)\n",
    "\"\"\""
   ]
  },
  {
   "cell_type": "markdown",
   "id": "0dacb4f4",
   "metadata": {},
   "source": [
    "## Institutions"
   ]
  },
  {
   "cell_type": "code",
   "execution_count": null,
   "id": "63ea9eab",
   "metadata": {
    "scrolled": true
   },
   "outputs": [],
   "source": [
    "# gov_df['Institutions'] = gov_df['Institutions'].fillna('')"
   ]
  },
  {
   "cell_type": "code",
   "execution_count": null,
   "id": "915a5e60",
   "metadata": {
    "scrolled": true
   },
   "outputs": [],
   "source": [
    "# gov_df['Institutions']"
   ]
  },
  {
   "cell_type": "code",
   "execution_count": null,
   "id": "d05fb2f7",
   "metadata": {},
   "outputs": [],
   "source": [
    "# institutions_list = list(gov_df['Institutions'])"
   ]
  },
  {
   "cell_type": "code",
   "execution_count": null,
   "id": "4cbb9c6b",
   "metadata": {
    "scrolled": true
   },
   "outputs": [],
   "source": [
    "# institutions_list"
   ]
  },
  {
   "cell_type": "code",
   "execution_count": null,
   "id": "a4d3789f",
   "metadata": {},
   "outputs": [],
   "source": [
    "# institutions_test = institutions_list[0]\n",
    "# institutions_test"
   ]
  },
  {
   "cell_type": "code",
   "execution_count": null,
   "id": "07f6853f",
   "metadata": {},
   "outputs": [],
   "source": [
    "# [i.strip() for i in institutions_test.split(',')]"
   ]
  },
  {
   "cell_type": "code",
   "execution_count": null,
   "id": "03b0ca03",
   "metadata": {},
   "outputs": [],
   "source": [
    "# institutions_set = set()"
   ]
  },
  {
   "cell_type": "code",
   "execution_count": null,
   "id": "1ad7d4b0",
   "metadata": {},
   "outputs": [],
   "source": [
    "# String test\n",
    "# \"\\'\\'\\\"\".strip().replace('\"', '').replace('\\'','')"
   ]
  },
  {
   "cell_type": "code",
   "execution_count": null,
   "id": "4d87ed54",
   "metadata": {},
   "outputs": [],
   "source": [
    "# test_string = '\"Hunting \"\"chief\"\"\"'\n",
    "# test_string"
   ]
  },
  {
   "cell_type": "code",
   "execution_count": null,
   "id": "845f0fbd",
   "metadata": {},
   "outputs": [],
   "source": [
    "# test_string.strip().replace('\\\"', '').replace('\\'','')"
   ]
  },
  {
   "cell_type": "code",
   "execution_count": null,
   "id": "788ee858",
   "metadata": {},
   "outputs": [],
   "source": [
    "# original_institutions_set = set()"
   ]
  },
  {
   "cell_type": "code",
   "execution_count": null,
   "id": "2bb314d7",
   "metadata": {},
   "outputs": [],
   "source": [
    "# [original_institutions_set.update([i for i in institutions.split(',')]) for institutions in institutions_list]\n",
    "# original_institutions_set"
   ]
  },
  {
   "cell_type": "code",
   "execution_count": null,
   "id": "1e395961",
   "metadata": {},
   "outputs": [],
   "source": [
    "# Create set of all values\n",
    "# [institutions_set.update([i.lower().strip() for i in institutions.split(',')]) for institutions in institutions_list]\n",
    "# institutions_set"
   ]
  },
  {
   "cell_type": "code",
   "execution_count": null,
   "id": "290ba854",
   "metadata": {},
   "outputs": [],
   "source": [
    "# len(institutions_set)"
   ]
  },
  {
   "cell_type": "code",
   "execution_count": null,
   "id": "1e4eaa6b",
   "metadata": {},
   "outputs": [],
   "source": [
    "# Cleanup\n",
    "# cleaned_institutions_set = {i.replace('\\\"', '').replace('\\'','') for i in institutions_set}"
   ]
  },
  {
   "cell_type": "code",
   "execution_count": null,
   "id": "546b74a4",
   "metadata": {},
   "outputs": [],
   "source": [
    "# cleaned_institutions_set"
   ]
  },
  {
   "cell_type": "code",
   "execution_count": null,
   "id": "8bf33d87",
   "metadata": {},
   "outputs": [],
   "source": [
    "# len(cleaned_institutions_set)"
   ]
  },
  {
   "cell_type": "code",
   "execution_count": null,
   "id": "db2744b9",
   "metadata": {},
   "outputs": [],
   "source": [
    "# institutions_set.difference(cleaned_institutions_set)"
   ]
  },
  {
   "cell_type": "code",
   "execution_count": null,
   "id": "d4974c69",
   "metadata": {},
   "outputs": [],
   "source": [
    "# cleaned_institutions_set.difference(institutions_set)"
   ]
  },
  {
   "cell_type": "code",
   "execution_count": null,
   "id": "9d2bf770",
   "metadata": {},
   "outputs": [],
   "source": [
    "# gov_df['Institutions']"
   ]
  },
  {
   "cell_type": "code",
   "execution_count": null,
   "id": "1473aa75",
   "metadata": {
    "scrolled": false
   },
   "outputs": [],
   "source": [
    "\"\"\"\n",
    "for institution in original_institutions_set:\n",
    "    institution_str = institution.lower() \\\n",
    "                                .replace('/', '_') \\\n",
    "                                .replace(' ','_') \\\n",
    "                                .replace('(','') \\\n",
    "                                .replace(')','') \\\n",
    "                                .replace('\\\"', '') \\\n",
    "                                .replace('\\'','') # Normalize text\n",
    "    col_name = 'institutions_include_' + institution_str\n",
    "    gov_df[col_name] = np.where(gov_df['Institutions'].str.contains(institution, regex=False), 1, 0)\n",
    "    \n",
    "\"\"\"\n",
    "# Exclude institutions for now "
   ]
  },
  {
   "cell_type": "code",
   "execution_count": null,
   "id": "1fc71be0",
   "metadata": {
    "scrolled": true
   },
   "outputs": [],
   "source": [
    "# list(cleaned_institutions_set)"
   ]
  },
  {
   "cell_type": "code",
   "execution_count": null,
   "id": "fba6c0d2",
   "metadata": {},
   "outputs": [],
   "source": [
    "# list(gov_df)"
   ]
  },
  {
   "cell_type": "code",
   "execution_count": null,
   "id": "fbae9e3c",
   "metadata": {},
   "outputs": [],
   "source": [
    "# institution_columns = [col_name for col_name in list(gov_df) if 'institutions_include' in col_name]"
   ]
  },
  {
   "cell_type": "code",
   "execution_count": null,
   "id": "fac66a1b",
   "metadata": {},
   "outputs": [],
   "source": [
    "# institution_columns"
   ]
  },
  {
   "cell_type": "code",
   "execution_count": null,
   "id": "bb950323",
   "metadata": {},
   "outputs": [],
   "source": [
    "# gov_df[institution_columns].sum().sort_values()"
   ]
  },
  {
   "cell_type": "code",
   "execution_count": null,
   "id": "fdf236d9",
   "metadata": {},
   "outputs": [],
   "source": [
    "# TODO: Institutions need cleanup, formatting is causing issues with encoding"
   ]
  },
  {
   "cell_type": "code",
   "execution_count": null,
   "id": "0c1d4f7f",
   "metadata": {
    "scrolled": true
   },
   "outputs": [],
   "source": [
    "# gov_df.head()"
   ]
  },
  {
   "cell_type": "markdown",
   "id": "cf0df385",
   "metadata": {},
   "source": [
    "## Size"
   ]
  },
  {
   "cell_type": "code",
   "execution_count": null,
   "id": "68a98166",
   "metadata": {},
   "outputs": [],
   "source": [
    "\"\"\"\n",
    "Replace sizes:\n",
    "\n",
    "100 - 1,000\n",
    "1,001 - 10,000\n",
    "20,000-30,000                  -> 10,001 - 100,000\n",
    "33,000                         -> 10,001 - 100,000 \n",
    "10,001 - 100,000\n",
    "100,001 - 1 million members    -> 100,001 - 1,000,000\n",
    "1 million - 10 million members -> 1,000,001 - 10,000,000\n",
    "+10 million members            -> 10,000,000+\n",
    "20 million - 30 million        -> 10,000,000+\n",
    "Unknown\n",
    "\"\"\""
   ]
  },
  {
   "cell_type": "code",
   "execution_count": null,
   "id": "e735d8a1",
   "metadata": {},
   "outputs": [],
   "source": [
    "# Replace size values\n",
    "gov_df['Size'] = gov_df['Size'].replace(['20,000-30,000','33,000'], '10,001 - 100,000')"
   ]
  },
  {
   "cell_type": "code",
   "execution_count": null,
   "id": "4bb969f1",
   "metadata": {},
   "outputs": [],
   "source": [
    "gov_df['Size'] = gov_df['Size'].replace(['100,001 - 1 million members'], '100,001 - 1,000,000')"
   ]
  },
  {
   "cell_type": "code",
   "execution_count": null,
   "id": "e69763a2",
   "metadata": {},
   "outputs": [],
   "source": [
    "gov_df['Size'] = gov_df['Size'].replace(['1 million - 10 million members'], '1,000,001 - 10,000,000')"
   ]
  },
  {
   "cell_type": "code",
   "execution_count": null,
   "id": "42a94f33",
   "metadata": {},
   "outputs": [],
   "source": [
    "gov_df['Size'] = gov_df['Size'].replace(['+10 million members','20 million - 30 million'], '10,000,000+')"
   ]
  },
  {
   "cell_type": "code",
   "execution_count": null,
   "id": "13f3b1db",
   "metadata": {
    "scrolled": true
   },
   "outputs": [],
   "source": [
    "gov_df['Size'].value_counts()"
   ]
  },
  {
   "cell_type": "code",
   "execution_count": null,
   "id": "092811af",
   "metadata": {},
   "outputs": [],
   "source": [
    "size_order = [\n",
    "    '100 - 1,000',\n",
    "    '1,001 - 10,000',\n",
    "    '10,001 - 100,000',\n",
    "    '100,001 - 1,000,000',\n",
    "    '1,000,001 - 10,000,000',\n",
    "    '10,000,000+',\n",
    "    'Unknown'\n",
    "]"
   ]
  },
  {
   "cell_type": "code",
   "execution_count": null,
   "id": "b0df32c0",
   "metadata": {
    "scrolled": false
   },
   "outputs": [],
   "source": [
    "for size in size_order:\n",
    "    col_name = 'Size: ' + size\n",
    "    gov_df[col_name] = np.where(gov_df['Size'] == size, 1, 0)"
   ]
  },
  {
   "cell_type": "code",
   "execution_count": null,
   "id": "d06259ac",
   "metadata": {},
   "outputs": [],
   "source": [
    "gov_df.head()"
   ]
  },
  {
   "cell_type": "markdown",
   "id": "fb82b897",
   "metadata": {},
   "source": [
    "## Geography "
   ]
  },
  {
   "cell_type": "code",
   "execution_count": null,
   "id": "9b149876",
   "metadata": {},
   "outputs": [],
   "source": [
    "list(gov_df)"
   ]
  },
  {
   "cell_type": "code",
   "execution_count": null,
   "id": "6d513c7c",
   "metadata": {},
   "outputs": [],
   "source": [
    "geography_list = gov_df['Geography'].unique()"
   ]
  },
  {
   "cell_type": "code",
   "execution_count": null,
   "id": "d2c44404",
   "metadata": {
    "scrolled": true
   },
   "outputs": [],
   "source": [
    "geography_list"
   ]
  },
  {
   "cell_type": "code",
   "execution_count": null,
   "id": "96e5e5ce",
   "metadata": {},
   "outputs": [],
   "source": [
    "for geography in geography_list:\n",
    "    col_name = 'Geography: ' + geography\n",
    "    gov_df[col_name] = np.where(gov_df['Geography'] == geography, 1, 0)"
   ]
  },
  {
   "cell_type": "markdown",
   "id": "737b6afe",
   "metadata": {},
   "source": [
    "### Encode Regions"
   ]
  },
  {
   "cell_type": "code",
   "execution_count": null,
   "id": "431c24f6",
   "metadata": {},
   "outputs": [],
   "source": [
    "regions = ['Africa','Europe','Asia','Middle East','North America','Central America','South America','Oceania']"
   ]
  },
  {
   "cell_type": "code",
   "execution_count": null,
   "id": "567f29db",
   "metadata": {},
   "outputs": [],
   "source": [
    "# Create broader regions \n",
    "conditions = [\n",
    "    (gov_df['Geography'].str.contains('Africa')),\n",
    "    (gov_df['Geography'].str.contains('Europe')),\n",
    "    (gov_df['Geography'].str.contains('Asia')),\n",
    "    (gov_df['Geography'].str.contains('Middle East')),\n",
    "    (gov_df['Geography'].str.contains('North America')),\n",
    "    (gov_df['Geography'].str.contains('Central America')),\n",
    "    (gov_df['Geography'].str.contains('South America')),\n",
    "    (gov_df['Geography'].str.contains('Oceania'))\n",
    "]"
   ]
  },
  {
   "cell_type": "code",
   "execution_count": null,
   "id": "34ed2152",
   "metadata": {},
   "outputs": [],
   "source": [
    "gov_df['Region'] = np.select(conditions, regions)"
   ]
  },
  {
   "cell_type": "code",
   "execution_count": null,
   "id": "b9628824",
   "metadata": {
    "scrolled": true
   },
   "outputs": [],
   "source": [
    "gov_df['Region'].value_counts()"
   ]
  },
  {
   "cell_type": "code",
   "execution_count": null,
   "id": "ac5d7550",
   "metadata": {
    "scrolled": true
   },
   "outputs": [],
   "source": [
    "for region in regions:\n",
    "    col_name = 'Region: ' + region\n",
    "    gov_df[col_name] = np.where(gov_df['Region'] == region, 1, 0)"
   ]
  },
  {
   "cell_type": "markdown",
   "id": "d0e0a978",
   "metadata": {},
   "source": [
    "## Time span"
   ]
  },
  {
   "cell_type": "code",
   "execution_count": null,
   "id": "a3def304",
   "metadata": {
    "scrolled": true
   },
   "outputs": [],
   "source": [
    "gov_df['Time span: Duration'] = gov_df['Time span: End'] - gov_df['Time span: Start']"
   ]
  },
  {
   "cell_type": "markdown",
   "id": "8c4949a8",
   "metadata": {},
   "source": [
    "# Write to CSV"
   ]
  },
  {
   "cell_type": "markdown",
   "id": "130397f7",
   "metadata": {},
   "source": [
    "### Check"
   ]
  },
  {
   "cell_type": "code",
   "execution_count": null,
   "id": "2f8e94fb",
   "metadata": {},
   "outputs": [],
   "source": [
    "gov_df.head()"
   ]
  },
  {
   "cell_type": "code",
   "execution_count": null,
   "id": "55f51499",
   "metadata": {},
   "outputs": [],
   "source": [
    "list(gov_df)"
   ]
  },
  {
   "cell_type": "code",
   "execution_count": null,
   "id": "b7c07639",
   "metadata": {
    "scrolled": true
   },
   "outputs": [],
   "source": [
    "gov_df.select_dtypes(include=np.number).sum().sort_values()"
   ]
  },
  {
   "cell_type": "code",
   "execution_count": null,
   "id": "9eaa43f5",
   "metadata": {},
   "outputs": [],
   "source": [
    "# Write prepped dataset to csv\n",
    "gov_df.to_csv('data/communities_data_prepped.csv', index=False)"
   ]
  },
  {
   "cell_type": "code",
   "execution_count": null,
   "id": "08a2a3d9",
   "metadata": {},
   "outputs": [],
   "source": []
  }
 ],
 "metadata": {
  "kernelspec": {
   "display_name": "Python 3 (ipykernel)",
   "language": "python",
   "name": "python3"
  },
  "language_info": {
   "codemirror_mode": {
    "name": "ipython",
    "version": 3
   },
   "file_extension": ".py",
   "mimetype": "text/x-python",
   "name": "python",
   "nbconvert_exporter": "python",
   "pygments_lexer": "ipython3",
   "version": "3.9.6"
  }
 },
 "nbformat": 4,
 "nbformat_minor": 5
}
